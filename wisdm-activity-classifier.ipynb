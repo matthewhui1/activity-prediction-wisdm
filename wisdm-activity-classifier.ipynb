{
 "cells": [
  {
   "cell_type": "code",
   "execution_count": 5,
   "id": "f3c3d778",
   "metadata": {},
   "outputs": [],
   "source": [
    "from pyspark.sql import SparkSession\n",
    "from pyspark.sql import Window\n",
    "from pyspark.sql.types import *\n",
    "from pyspark.sql.functions import *\n",
    "from pyspark.ml.feature import StringIndexer\n",
    "from pyspark.ml.feature import OneHotEncoder\n",
    "from pyspark.ml.feature import StandardScaler\n",
    "from pyspark.ml.feature import VectorAssembler\n",
    "from pyspark.ml.classification import LogisticRegression\n",
    "from pyspark.ml.evaluation import BinaryClassificationEvaluator\n",
    "from pyspark.ml.tuning import CrossValidator\n",
    "from pyspark.ml.tuning import ParamGridBuilder\n",
    "\n",
    "from user_definition import *\n",
    "# Please do not add anything extra than pyspark related packages/libraries."
   ]
  },
  {
   "cell_type": "code",
   "execution_count": 2,
   "id": "47210a7c",
   "metadata": {},
   "outputs": [],
   "source": [
    "ss = SparkSession.builder.config('spark.driver.extraClassPath',\n",
    "                                 'postgresql-42.2.18.jar').getOrCreate()"
   ]
  },
  {
   "cell_type": "code",
   "execution_count": 4,
   "id": "31da14fd",
   "metadata": {},
   "outputs": [
    {
     "data": {
      "text/html": [
       "\n",
       "            <div>\n",
       "                <p><b>SparkSession - in-memory</b></p>\n",
       "                \n",
       "        <div>\n",
       "            <p><b>SparkContext</b></p>\n",
       "\n",
       "            <p><a href=\"http://matthews-mbp-4:4041\">Spark UI</a></p>\n",
       "\n",
       "            <dl>\n",
       "              <dt>Version</dt>\n",
       "                <dd><code>v3.0.0</code></dd>\n",
       "              <dt>Master</dt>\n",
       "                <dd><code>local[*]</code></dd>\n",
       "              <dt>AppName</dt>\n",
       "                <dd><code>pyspark-shell</code></dd>\n",
       "            </dl>\n",
       "        </div>\n",
       "        \n",
       "            </div>\n",
       "        "
      ],
      "text/plain": [
       "<pyspark.sql.session.SparkSession at 0x7fc3e0c7bf70>"
      ]
     },
     "execution_count": 4,
     "metadata": {},
     "output_type": "execute_result"
    }
   ],
   "source": [
    "ss"
   ]
  },
  {
   "cell_type": "markdown",
   "id": "c9d5e48c",
   "metadata": {},
   "source": [
    "### Upload Data"
   ]
  },
  {
   "cell_type": "code",
   "execution_count": 3,
   "id": "cffbf8b3",
   "metadata": {},
   "outputs": [],
   "source": [
    "wisdm_file = file_rdd(ss=ss, files=files)"
   ]
  },
  {
   "cell_type": "markdown",
   "id": "b0401b1d",
   "metadata": {},
   "source": [
    "### Set Schema"
   ]
  },
  {
   "cell_type": "code",
   "execution_count": 4,
   "id": "10416557",
   "metadata": {},
   "outputs": [],
   "source": [
    "schema = StructType([StructField(\"subject_id\", IntegerType(), False),\n",
    "                     StructField(\"sensor\", StringType(), False),\n",
    "                     StructField(\"device\", StringType(), False),\n",
    "                     StructField(\"activity_code\", StringType(), False),\n",
    "                     StructField(\"timestamp\", LongType(), False),\n",
    "                     StructField(\"x\", FloatType(), False),\n",
    "                     StructField(\"y\", FloatType(), False),\n",
    "                     StructField(\"z\", FloatType(), False)])"
   ]
  },
  {
   "cell_type": "code",
   "execution_count": 5,
   "id": "bc061eb6",
   "metadata": {},
   "outputs": [],
   "source": [
    "wisdm_df = create_activity_df(ss=ss,\n",
    "                              files_rdd=wisdm_file,\n",
    "                              schema=schema).cache()"
   ]
  },
  {
   "cell_type": "markdown",
   "id": "d85a625a",
   "metadata": {},
   "source": [
    "## Create Eat Variable"
   ]
  },
  {
   "cell_type": "code",
   "execution_count": 6,
   "id": "681b2eaa",
   "metadata": {},
   "outputs": [],
   "source": [
    "def check_eat(x):\n",
    "    for string in eating_strings:\n",
    "        if string.lower() in x.lower():\n",
    "            return 1\n",
    "    return 0\n",
    "\n",
    "\n",
    "check_eat_udf = udf(check_eat, IntegerType())"
   ]
  },
  {
   "cell_type": "code",
   "execution_count": 7,
   "id": "661c6b02",
   "metadata": {},
   "outputs": [],
   "source": [
    "activity_code = ss.read.jdbc(url=url, table=table, properties=properties)"
   ]
  },
  {
   "cell_type": "code",
   "execution_count": 8,
   "id": "937fde9d",
   "metadata": {},
   "outputs": [
    {
     "name": "stdout",
     "output_type": "stream",
     "text": [
      "+----+\n",
      "|code|\n",
      "+----+\n",
      "|   H|\n",
      "|   I|\n",
      "|   J|\n",
      "|   L|\n",
      "+----+\n",
      "\n"
     ]
    }
   ],
   "source": [
    "# Check Codes that relate to eating\n",
    "\n",
    "activity_code.filter(check_eat_udf(activity_code['activity']) == 1)\\\n",
    "             .select('code')\\\n",
    "             .show()"
   ]
  },
  {
   "cell_type": "code",
   "execution_count": 9,
   "id": "59dc2e6b",
   "metadata": {},
   "outputs": [],
   "source": [
    "activity_code = activity_code.withColumn(\"eating\", check_eat_udf(activity_code['activity']))\\\n",
    "                             .cache()"
   ]
  },
  {
   "cell_type": "code",
   "execution_count": 15,
   "id": "18f0062f",
   "metadata": {},
   "outputs": [
    {
     "name": "stdout",
     "output_type": "stream",
     "text": [
      "+----------+------+------+-------------+--------------+----------+----------+----------+------+\n",
      "|subject_id|sensor|device|activity_code|     timestamp|         x|         y|         z|eating|\n",
      "+----------+------+------+-------------+--------------+----------+----------+----------+------+\n",
      "|      1600| accel| watch|            D|79817308824838|-0.1666963| 1.5316905| 10.057592|     0|\n",
      "|      1600| accel| watch|            D|79817358500488|  3.613748|-1.0540473| 11.779023|     0|\n",
      "|      1600|  gyro| watch|            D|79817358500488| -1.365979|-1.5444704|-1.6969953|     0|\n",
      "|      1600| accel| watch|            D|79817408176138| 2.0886416|-3.4386723|  12.97373|     0|\n",
      "|      1600|  gyro| watch|            D|79817408176138|-1.9071333|-1.2696322|-1.8173702|     0|\n",
      "+----------+------+------+-------------+--------------+----------+----------+----------+------+\n",
      "only showing top 5 rows\n",
      "\n"
     ]
    }
   ],
   "source": [
    "wisdm_df = wisdm_df.join(activity_code, wisdm_df.activity_code == activity_code.code)\\\n",
    "                   .drop('activity', 'code')\\\n",
    "                   .orderBy([\"subject_id\", \"timestamp\", \"device\", \"sensor\"])\\\n",
    "        \n",
    "\n",
    "wisdm_df.show(n)"
   ]
  },
  {
   "cell_type": "code",
   "execution_count": 19,
   "id": "96ecce20",
   "metadata": {},
   "outputs": [],
   "source": [
    "acc = wisdm_df.filter(wisdm_df.sensor == 'accel')\\\n",
    "              .select('subject_id', 'device',\n",
    "                      'timestamp', 'activity_code', 'eating',\n",
    "                      wisdm_df.x.alias('accel_x'),\n",
    "                      wisdm_df.y.alias('accel_y'),\n",
    "                      wisdm_df.z.alias('accel_z'))\n",
    "\n",
    "gyr = wisdm_df.filter(wisdm_df.sensor == 'gyro')\\\n",
    "              .select('subject_id', 'device',\n",
    "                      'timestamp', 'activity_code', 'eating',\n",
    "                      wisdm_df.x.alias('gyro_x'),\n",
    "                      wisdm_df.y.alias('gyro_y'),\n",
    "                      wisdm_df.z.alias('gyro_z'))\n",
    "\n",
    "# concatenate two device values together\n",
    "\n",
    "acc_gyr = acc.join(gyr, [acc.timestamp == gyr.timestamp,\n",
    "                         acc.activity_code == gyr.activity_code,\n",
    "                         acc.device == gyr.device], 'inner')\\\n",
    "             .select(acc.activity_code, acc.subject_id,\n",
    "                     acc.device, acc.timestamp, acc.accel_x,\n",
    "                     acc.accel_y, acc.accel_z, 'gyro_x', 'gyro_y',\n",
    "                     'gyro_z', acc.eating).distinct().cache()\n",
    "\n",
    "new_df = acc_gyr.select('activity_code', 'subject_id', 'timestamp', 'device',\n",
    "                        'eating', 'accel_x', 'accel_y', 'accel_z', 'gyro_x', \n",
    "                        'gyro_y', 'gyro_z').cache()"
   ]
  },
  {
   "cell_type": "code",
   "execution_count": 20,
   "id": "d37513d9",
   "metadata": {},
   "outputs": [
    {
     "name": "stdout",
     "output_type": "stream",
     "text": [
      "5901089\n"
     ]
    }
   ],
   "source": [
    "print(new_df.count())"
   ]
  },
  {
   "cell_type": "code",
   "execution_count": 21,
   "id": "92736df2",
   "metadata": {},
   "outputs": [],
   "source": [
    "w = Window\\\n",
    "    .partitionBy(\"subject_id\", \"activity_code\", \"device\") \\\n",
    "    .orderBy(\"timestamp\")\n",
    "\n",
    "for i in range(1, window_size + 1):\n",
    "    new_df = new_df.withColumn(f\"lead_{i}_accel_x\", lead(\"accel_x\", i).over(w))\\\n",
    "                   .withColumn(f\"lead_{i}_accel_y\", lead(\"accel_y\", i).over(w))\\\n",
    "                   .withColumn(f\"lead_{i}_accel_z\", lead(\"accel_z\", i).over(w))\\\n",
    "                   .withColumn(f\"lead_{i}_gyro_x\", lead(\"gyro_x\", i).over(w))\\\n",
    "                   .withColumn(f\"lead_{i}_gyro_y\", lead(\"gyro_y\", i).over(w))\\\n",
    "                   .withColumn(f\"lead_{i}_gyro_z\", lead(\"gyro_z\", i).over(w))\\\n",
    "                   .orderBy([\"subject_id\", \"activity_code\", \"device\", \"timestamp\"])\\\n",
    "\n",
    "new_df = new_df.drop(\"activity_code\").cache()"
   ]
  },
  {
   "cell_type": "code",
   "execution_count": 22,
   "id": "e56e4157",
   "metadata": {},
   "outputs": [
    {
     "name": "stdout",
     "output_type": "stream",
     "text": [
      "+----------+---------------+------+------+-----------+---------+-----------+-----------+-----------+-----------+--------------+--------------+--------------+-------------+-------------+-------------+--------------+--------------+--------------+-------------+-------------+-------------+--------------+--------------+--------------+-------------+-------------+-------------+\n",
      "|subject_id|      timestamp|device|eating|    accel_x|  accel_y|    accel_z|     gyro_x|     gyro_y|     gyro_z|lead_1_accel_x|lead_1_accel_y|lead_1_accel_z|lead_1_gyro_x|lead_1_gyro_y|lead_1_gyro_z|lead_2_accel_x|lead_2_accel_y|lead_2_accel_z|lead_2_gyro_x|lead_2_gyro_y|lead_2_gyro_z|lead_3_accel_x|lead_3_accel_y|lead_3_accel_z|lead_3_gyro_x|lead_3_gyro_y|lead_3_gyro_z|\n",
      "+----------+---------------+------+------+-----------+---------+-----------+-----------+-----------+-----------+--------------+--------------+--------------+-------------+-------------+-------------+--------------+--------------+--------------+-------------+-------------+-------------+--------------+--------------+--------------+-------------+-------------+-------------+\n",
      "|      1600|252207918580802| phone|     0|  -4.332779|13.361191| -0.7188721|-0.85321045| 0.29722595|  0.8901825|   -0.31944275|     13.318359|   -0.23202515|   -0.8751373|  0.015472412|   0.16223145|      1.566452|      9.515274|   -0.01777649|  -0.72016907|   0.38848877|  -0.28401184|   -0.32374573|      5.262665|    0.32234192|     -0.57164|    1.2274017|   -0.2416687|\n",
      "|      1600|252207968934806| phone|     0|-0.31944275|13.318359|-0.23202515| -0.8751373|0.015472412| 0.16223145|      1.566452|      9.515274|   -0.01777649|  -0.72016907|   0.38848877|  -0.28401184|   -0.32374573|      5.262665|    0.32234192|     -0.57164|    1.2274017|   -0.2416687|     -1.811676|     3.7105103|     1.3739319|  -0.38049316|    1.2028351|  -0.21313477|\n",
      "|      1600|252208019288809| phone|     0|   1.566452| 9.515274|-0.01777649|-0.72016907| 0.38848877|-0.28401184|   -0.32374573|      5.262665|    0.32234192|     -0.57164|    1.2274017|   -0.2416687|     -1.811676|     3.7105103|     1.3739319|  -0.38049316|    1.2028351|  -0.21313477|    -1.1340485|      4.538269|     2.2975464|   -0.2257843|     0.558136|    0.1244812|\n",
      "|      1600|252208069642813| phone|     0|-0.32374573| 5.262665| 0.32234192|   -0.57164|  1.2274017| -0.2416687|     -1.811676|     3.7105103|     1.3739319|  -0.38049316|    1.2028351|  -0.21313477|    -1.1340485|      4.538269|     2.2975464|   -0.2257843|     0.558136|    0.1244812|    0.09291077|     6.7061005|     1.8996277|   0.12780762|   0.38006592|   0.55288696|\n",
      "|      1600|252208119996817| phone|     0|  -1.811676|3.7105103|  1.3739319|-0.38049316|  1.2028351|-0.21313477|    -1.1340485|      4.538269|     2.2975464|   -0.2257843|     0.558136|    0.1244812|    0.09291077|     6.7061005|     1.8996277|   0.12780762|   0.38006592|   0.55288696|    -1.0363159|     15.611984|     2.6415253|    -0.513504|    0.3798523|   0.33229065|\n",
      "+----------+---------------+------+------+-----------+---------+-----------+-----------+-----------+-----------+--------------+--------------+--------------+-------------+-------------+-------------+--------------+--------------+--------------+-------------+-------------+-------------+--------------+--------------+--------------+-------------+-------------+-------------+\n",
      "only showing top 5 rows\n",
      "\n"
     ]
    }
   ],
   "source": [
    "new_df.show(n)"
   ]
  },
  {
   "cell_type": "markdown",
   "id": "6bd0bd52",
   "metadata": {},
   "source": [
    "## Encode Variables"
   ]
  },
  {
   "cell_type": "code",
   "execution_count": 23,
   "id": "a2c63fba",
   "metadata": {},
   "outputs": [],
   "source": [
    "si = StringIndexer(inputCol=\"device\", outputCol=\"device-num\")\n",
    "sm = si.fit(new_df)\n",
    "new_df = sm.transform(new_df).drop(\"device\")\n",
    "new_df = new_df.withColumnRenamed(\"device-num\", \"device\")\n",
    "\n",
    "ohe = OneHotEncoder(inputCol=\"device\",\n",
    "                    outputCol=\"device-onehot\", dropLast=False)\n",
    "ohe_model = ohe.fit(new_df)\n",
    "\n",
    "new_df = ohe_model.transform(new_df).drop(\"device\")\n",
    "new_df = new_df.withColumnRenamed(\"device-onehot\", \"device\")"
   ]
  },
  {
   "cell_type": "code",
   "execution_count": 24,
   "id": "85bf4348",
   "metadata": {},
   "outputs": [
    {
     "name": "stdout",
     "output_type": "stream",
     "text": [
      "+----------+--------------+-------------+---------+----------+---------+-----------+-----------+------------+--------------+--------------+--------------+-------------+-------------+-------------+--------------+--------------+--------------+-------------+-------------+-------------+--------------+--------------+--------------+-------------+-------------+-------------+\n",
      "|subject_id|     timestamp|       device|  accel_x|   accel_y|  accel_z|     gyro_x|     gyro_y|      gyro_z|lead_1_accel_x|lead_1_accel_y|lead_1_accel_z|lead_1_gyro_x|lead_1_gyro_y|lead_1_gyro_z|lead_2_accel_x|lead_2_accel_y|lead_2_accel_z|lead_2_gyro_x|lead_2_gyro_y|lead_2_gyro_z|lead_3_accel_x|lead_3_accel_y|lead_3_accel_z|lead_3_gyro_x|lead_3_gyro_y|lead_3_gyro_z|\n",
      "+----------+--------------+-------------+---------+----------+---------+-----------+-----------+------------+--------------+--------------+--------------+-------------+-------------+-------------+--------------+--------------+--------------+-------------+-------------+-------------+--------------+--------------+--------------+-------------+-------------+-------------+\n",
      "|      1600|79817358500488|(2,[0],[1.0])| 3.613748|-1.0540473|11.779023|  -1.365979| -1.5444704|  -1.6969953|     2.0886416|    -3.4386723|      12.97373|   -1.9071333|   -1.2696322|   -1.8173702|     1.7319057|    -2.5504234|      9.820566|   -1.4416127|  -0.42487752|  -0.28658515|     3.0319571|    -2.7802668|     14.082246|    1.1480451|   -1.4720324|   0.23645967|\n",
      "|      1600|79817408176138|(2,[0],[1.0])|2.0886416|-3.4386723| 12.97373| -1.9071333| -1.2696322|  -1.8173702|     1.7319057|    -2.5504234|      9.820566|   -1.4416127|  -0.42487752|  -0.28658515|     3.0319571|    -2.7802668|     14.082246|    1.1480451|   -1.4720324|   0.23645967|     4.6025534|      2.984971|      11.19005|  -0.67249185|  0.048099883| -0.059683837|\n",
      "|      1600|79817457851788|(2,[0],[1.0])|1.7319057|-2.5504234| 9.820566| -1.4416127|-0.42487752| -0.28658515|     3.0319571|    -2.7802668|     14.082246|    1.1480451|   -1.4720324|   0.23645967|     4.6025534|      2.984971|      11.19005|  -0.67249185|  0.048099883| -0.059683837|     2.7781718|    -3.9630024|      8.211663|   -1.2296251| -0.042447593|  -0.72973514|\n",
      "|      1600|79817507527438|(2,[0],[1.0])|3.0319571|-2.7802668|14.082246|  1.1480451| -1.4720324|  0.23645967|     4.6025534|      2.984971|      11.19005|  -0.67249185|  0.048099883| -0.059683837|     2.7781718|    -3.9630024|      8.211663|   -1.2296251| -0.042447593|  -0.72973514|     3.4772787|     1.0720038|      9.494955|  0.012473181|  -0.33646056|  -0.26847565|\n",
      "|      1600|79817557203088|(2,[0],[1.0])|4.6025534|  2.984971| 11.19005|-0.67249185|0.048099883|-0.059683837|     2.7781718|    -3.9630024|      8.211663|   -1.2296251| -0.042447593|  -0.72973514|     3.4772787|     1.0720038|      9.494955|  0.012473181|  -0.33646056|  -0.26847565|     3.9154177|     -4.099472|     10.416722|   0.17545864|  0.033186182|  -0.12040391|\n",
      "+----------+--------------+-------------+---------+----------+---------+-----------+-----------+------------+--------------+--------------+--------------+-------------+-------------+-------------+--------------+--------------+--------------+-------------+-------------+-------------+--------------+--------------+--------------+-------------+-------------+-------------+\n",
      "only showing top 5 rows\n",
      "\n"
     ]
    }
   ],
   "source": [
    "col_order = new_df.columns[:2] + [\"device\"] + new_df.columns[2:-1]\n",
    "\n",
    "new_df = new_df.orderBy([\"subject_id\", \"timestamp\", \"device\"])\\\n",
    "               .select(col_order).drop('eating')\n",
    "\n",
    "new_df.show(n)"
   ]
  },
  {
   "cell_type": "markdown",
   "id": "24fa839e",
   "metadata": {},
   "source": [
    "## Vectorize"
   ]
  },
  {
   "cell_type": "code",
   "execution_count": 112,
   "id": "2e9de6c3",
   "metadata": {},
   "outputs": [],
   "source": [
    "input_cols = [col for col in new_df.columns if \"gyro\" in col or \"accel\" in col]\n",
    "\n",
    "va = VectorAssembler(outputCol=\"features\",\n",
    "                     inputCols=input_cols, handleInvalid=\"skip\")\n",
    "\n",
    "df_trans = va.transform(new_df)"
   ]
  },
  {
   "cell_type": "markdown",
   "id": "aa86c44f",
   "metadata": {},
   "source": [
    "## Scale"
   ]
  },
  {
   "cell_type": "code",
   "execution_count": 113,
   "id": "dfeea6df",
   "metadata": {},
   "outputs": [],
   "source": [
    "scaler = StandardScaler(inputCol=\"features\", outputCol=\"features_scaled\",\n",
    "                        withStd=True, withMean=True)\n",
    "\n",
    "scaler_model = scaler.fit(df_trans)\n",
    "\n",
    "df_scaled = scaler_model.transform(df_trans)\\\n",
    "                        .drop(\"features\")\\\n",
    "                        .withColumnRenamed(\"features_scaled\", \"features\")"
   ]
  },
  {
   "cell_type": "code",
   "execution_count": 125,
   "id": "d1762a30",
   "metadata": {},
   "outputs": [
    {
     "name": "stdout",
     "output_type": "stream",
     "text": [
      "+------+-------------+--------------------+\n",
      "|eating|       device|            features|\n",
      "+------+-------------+--------------------+\n",
      "|     0|(2,[0],[1.0])|[0.69546612359028...|\n",
      "|     0|(2,[0],[1.0])|[0.42894076955912...|\n",
      "|     0|(2,[0],[1.0])|[0.35878297556336...|\n",
      "|     0|(2,[0],[1.0])|[0.50912109499279...|\n",
      "|     0|(2,[0],[1.0])|[0.64720949074113...|\n",
      "+------+-------------+--------------------+\n",
      "only showing top 5 rows\n",
      "\n"
     ]
    }
   ],
   "source": [
    "df_scaled = df_scaled.select(\"eating\", \"device\", \"features\")\\\n",
    "                     .orderBy([\"subject_id\", \"activity_code\",\n",
    "                               \"device\", \"timestamp\"])\n",
    "\n",
    "df_scaled.show(n)"
   ]
  },
  {
   "cell_type": "code",
   "execution_count": 126,
   "id": "96f64bac",
   "metadata": {},
   "outputs": [],
   "source": [
    "va2 = VectorAssembler(outputCol=\"final_feature\", inputCols=[\"features\", \"device\"],\n",
    "                      handleInvalid=\"skip\")\n",
    "\n",
    "final_df = va2.transform(df_scaled)"
   ]
  },
  {
   "cell_type": "code",
   "execution_count": 127,
   "id": "c53fca97",
   "metadata": {},
   "outputs": [],
   "source": [
    "final_df = final_df.select(\"final_feature\", \"eating\")\\\n",
    "                   .withColumnRenamed(\"final_feature\", \"features\")\\\n",
    "                   .withColumnRenamed(\"eating\", \"label\")\\\n",
    "                   .cache()"
   ]
  },
  {
   "cell_type": "markdown",
   "id": "919b755f",
   "metadata": {},
   "source": [
    "## Train/Valid Split"
   ]
  },
  {
   "cell_type": "code",
   "execution_count": 128,
   "id": "b2037c90",
   "metadata": {},
   "outputs": [],
   "source": [
    "splits = final_df.randomSplit([0.8, 0.2], 1)\n",
    "\n",
    "train = splits[0].cache()\n",
    "valid = splits[1].cache()"
   ]
  },
  {
   "cell_type": "code",
   "execution_count": 129,
   "id": "d416df38",
   "metadata": {},
   "outputs": [
    {
     "name": "stdout",
     "output_type": "stream",
     "text": [
      "+--------------------+-----+\n",
      "|            features|label|\n",
      "+--------------------+-----+\n",
      "|[-3.1091863058572...|    0|\n",
      "|[-3.0893114309134...|    0|\n",
      "|[-3.0384874887138...|    0|\n",
      "|[-3.0241532585882...|    0|\n",
      "|[-3.0091802692394...|    0|\n",
      "+--------------------+-----+\n",
      "only showing top 5 rows\n",
      "\n"
     ]
    }
   ],
   "source": [
    "train.show(n)"
   ]
  },
  {
   "cell_type": "code",
   "execution_count": 130,
   "id": "ac122742",
   "metadata": {},
   "outputs": [
    {
     "name": "stdout",
     "output_type": "stream",
     "text": [
      "+--------------------+-----+\n",
      "|            features|label|\n",
      "+--------------------+-----+\n",
      "|[-3.0236777378331...|    0|\n",
      "|[-2.6475242601134...|    0|\n",
      "|[-2.6327949455794...|    0|\n",
      "|[-2.6230195636882...|    0|\n",
      "|[-2.5604235255809...|    0|\n",
      "+--------------------+-----+\n",
      "only showing top 5 rows\n",
      "\n"
     ]
    }
   ],
   "source": [
    "valid.show(n)"
   ]
  },
  {
   "cell_type": "markdown",
   "id": "1e6509de",
   "metadata": {},
   "source": [
    "## Grid Search"
   ]
  },
  {
   "cell_type": "code",
   "execution_count": 132,
   "id": "4cd54115",
   "metadata": {},
   "outputs": [
    {
     "name": "stderr",
     "output_type": "stream",
     "text": [
      "Exception ignored in: <function JavaWrapper.__del__ at 0x7fa7c3fc4c10>\n",
      "Traceback (most recent call last):\n",
      "  File \"/Users/matthewhui/opt/anaconda3/lib/python3.8/site-packages/pyspark/ml/wrapper.py\", line 42, in __del__\n",
      "    if SparkContext._active_spark_context and self._java_obj is not None:\n",
      "AttributeError: 'StandardScaler' object has no attribute '_java_obj'\n"
     ]
    }
   ],
   "source": [
    "lr = LogisticRegression()\n",
    "bceval = BinaryClassificationEvaluator()\n",
    "\n",
    "cv = CrossValidator().setEstimator(lr).setEvaluator(bceval).setNumFolds(n_fold)\n",
    "\n",
    "paramGrid = ParamGridBuilder().addGrid(lr.maxIter, max_iter)\\\n",
    "                              .addGrid(lr.regParam, reg_params).build()\n",
    "\n",
    "cv.setEstimatorParamMaps(paramGrid)\n",
    "cvmodel = cv.fit(train)"
   ]
  },
  {
   "cell_type": "code",
   "execution_count": 133,
   "id": "7ce44d40",
   "metadata": {},
   "outputs": [
    {
     "name": "stdout",
     "output_type": "stream",
     "text": [
      "[-0.14065045738207851,-0.029078747642291694,0.031978120510682696,0.01659939995186924,-0.026075269240005656,-0.011546305556566676,-0.049485697263672246,-0.018095208246746586,0.010091025746710117,0.0006447343097696235,-0.0019262657412809562,-0.003017908792742433,-0.05295796713300515,-0.019173179224324894,0.011534458377788518,0.0056003107889840975,-0.005280181522858189,-0.0017075021535317373,-0.13730588107953515,-0.03194979180208861,0.038443855711314014,0.002378249924257801,0.0170903141671498,-0.024152714008608092,-0.06222799707487454,0.032856013792252454]\n",
      "\n",
      "-1.2679903453341719\n",
      "\n",
      "100\n",
      "\n",
      "0.001\n",
      "\n"
     ]
    }
   ],
   "source": [
    "print(cvmodel.bestModel.coefficients)\n",
    "print()\n",
    "print(cvmodel.bestModel.intercept)\n",
    "print()\n",
    "print(cvmodel.bestModel.getMaxIter())\n",
    "print()\n",
    "print(cvmodel.bestModel.getRegParam())\n",
    "print()"
   ]
  },
  {
   "cell_type": "markdown",
   "id": "f13a0e89",
   "metadata": {},
   "source": [
    "## Best Model AUC"
   ]
  },
  {
   "cell_type": "code",
   "execution_count": 135,
   "id": "63b2663d",
   "metadata": {},
   "outputs": [
    {
     "name": "stdout",
     "output_type": "stream",
     "text": [
      "0.6111573792775656\n"
     ]
    }
   ],
   "source": [
    "print(BinaryClassificationEvaluator().setMetricName(\"areaUnderROC\")\n",
    "                                     .evaluate(cvmodel.bestModel\n",
    "                                                      .transform(valid)))"
   ]
  },
  {
   "cell_type": "code",
   "execution_count": 136,
   "id": "8b6a6991",
   "metadata": {},
   "outputs": [],
   "source": [
    "ss.stop()"
   ]
  },
  {
   "cell_type": "code",
   "execution_count": null,
   "id": "03c5688f",
   "metadata": {},
   "outputs": [],
   "source": []
  }
 ],
 "metadata": {
  "kernelspec": {
   "display_name": "Python 3",
   "language": "python",
   "name": "python3"
  },
  "language_info": {
   "codemirror_mode": {
    "name": "ipython",
    "version": 3
   },
   "file_extension": ".py",
   "mimetype": "text/x-python",
   "name": "python",
   "nbconvert_exporter": "python",
   "pygments_lexer": "ipython3",
   "version": "3.8.2"
  }
 },
 "nbformat": 4,
 "nbformat_minor": 5
}
